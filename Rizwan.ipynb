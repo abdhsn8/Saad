{
  "cells": [
    {
      "cell_type": "markdown",
      "metadata": {
        "id": "view-in-github",
        "colab_type": "text"
      },
      "source": [
        "<a href=\"https://colab.research.google.com/github/abdhsn8/Saad/blob/main/Rizwan.ipynb\" target=\"_parent\"><img src=\"https://colab.research.google.com/assets/colab-badge.svg\" alt=\"Open In Colab\"/></a>"
      ]
    },
    {
      "cell_type": "code",
      "execution_count": 1,
      "metadata": {
        "id": "BcYPMxuOXq5y"
      },
      "outputs": [],
      "source": [
        "from tifffile import imread, imwrite"
      ]
    },
    {
      "cell_type": "code",
      "execution_count": 2,
      "metadata": {
        "id": "FQe5bAahXq51"
      },
      "outputs": [],
      "source": [
        "import numpy as np\n",
        "import glob"
      ]
    },
    {
      "cell_type": "code",
      "source": [
        "reconstruction = np.zeros((384,512,5), 'uint8')"
      ],
      "metadata": {
        "id": "YL1D_bV4pRSi"
      },
      "execution_count": null,
      "outputs": []
    },
    {
      "cell_type": "code",
      "source": [
        "# extract rgb channels\n",
        "for filename in glob.glob(r'/content/*.tif'):\n",
        "  print(filename)\n",
        "  rgbImage = imread(filename)\n",
        "  red   = rgbImage[:,:,0]\n",
        "  green = rgbImage[:,:,1]\n",
        "  blue  = rgbImage[:,:,2]\n",
        "  reconstruction[:,:,0]=red\n",
        "  reconstruction[:,:,1]=green\n",
        "  reconstruction[:,:,2]=blue"
      ],
      "metadata": {
        "id": "vg8PC_SNoeyw"
      },
      "execution_count": null,
      "outputs": []
    },
    {
      "cell_type": "code",
      "source": [
        "# extract gray image\n",
        "for filename in glob.glob(r'/content/*.tif'):\n",
        "  print(filename)\n",
        "  grayImage = imread(filename)\n",
        "  reconstruction[:,:,3]=grayImage"
      ],
      "metadata": {
        "id": "H-VO98hgpGNh"
      },
      "execution_count": null,
      "outputs": []
    },
    {
      "cell_type": "code",
      "source": [
        "# extract Inverse gray image\n",
        "for filename in glob.glob(r'/content/*.tif'):\n",
        "  print(filename)\n",
        "  ingrayImage = imread(filename)\n",
        "  reconstruction[:,:,4]=ingrayImage"
      ],
      "metadata": {
        "id": "TYgIj2ZvpgYY"
      },
      "execution_count": null,
      "outputs": []
    },
    {
      "cell_type": "code",
      "execution_count": 9,
      "metadata": {
        "id": "FJG6pIisXq51"
      },
      "outputs": [],
      "source": [
        "rgbImage = imread('peppers.tif')\n",
        "grayImage = imread('Grayimage.tif')\n",
        "ingrayImage = imread('inGrayimage.tif')"
      ]
    },
    {
      "cell_type": "code",
      "execution_count": 10,
      "metadata": {
        "id": "ETGNFGiiXq52"
      },
      "outputs": [],
      "source": [
        "# extract the three channels\n",
        "\n",
        "red = rgbImage[:,:,0]\n",
        "green = rgbImage[:,:,1]\n",
        "blue = rgbImage[:,:,2]"
      ]
    },
    {
      "cell_type": "code",
      "execution_count": 11,
      "metadata": {
        "id": "NmKEjjWuXq52"
      },
      "outputs": [],
      "source": [
        "reconstruction = np.zeros((384,512,5), 'uint8')\n",
        "\n",
        "reconstruction[:,:,0]=red\n",
        "reconstruction[:,:,1]=green\n",
        "reconstruction[:,:,2]=blue\n",
        "reconstruction[:,:,3]=grayImage\n",
        "reconstruction[:,:,4]=ingrayImage"
      ]
    },
    {
      "cell_type": "code",
      "execution_count": 12,
      "metadata": {
        "id": "av-867IbXq53"
      },
      "outputs": [],
      "source": [
        "imwrite('multi-channel.tif', reconstruction, planarconfig='CONTIG')"
      ]
    },
    {
      "cell_type": "code",
      "execution_count": 13,
      "metadata": {
        "colab": {
          "base_uri": "https://localhost:8080/"
        },
        "id": "3yvzwIetXq53",
        "outputId": "890723aa-f800-499d-a3c0-4719177789d0"
      },
      "outputs": [
        {
          "output_type": "execute_result",
          "data": {
            "text/plain": [
              "(384, 512, 5)"
            ]
          },
          "metadata": {},
          "execution_count": 13
        }
      ],
      "source": [
        "reconstruction.shape"
      ]
    }
  ],
  "metadata": {
    "kernelspec": {
      "display_name": "Python 3",
      "language": "python",
      "name": "python3"
    },
    "language_info": {
      "codemirror_mode": {
        "name": "ipython",
        "version": 3
      },
      "file_extension": ".py",
      "mimetype": "text/x-python",
      "name": "python",
      "nbconvert_exporter": "python",
      "pygments_lexer": "ipython3",
      "version": "3.6.5"
    },
    "colab": {
      "name": "Rizwan.ipynb",
      "provenance": [],
      "include_colab_link": true
    }
  },
  "nbformat": 4,
  "nbformat_minor": 0
}