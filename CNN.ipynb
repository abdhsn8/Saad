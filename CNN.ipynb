{
  "nbformat": 4,
  "nbformat_minor": 0,
  "metadata": {
    "colab": {
      "name": "CNN.ipynb",
      "provenance": [],
      "collapsed_sections": [],
      "authorship_tag": "ABX9TyNos1WQrOasmmFV6CzcAN6S",
      "include_colab_link": true
    },
    "kernelspec": {
      "name": "python3",
      "display_name": "Python 3"
    },
    "accelerator": "GPU"
  },
  "cells": [
    {
      "cell_type": "markdown",
      "metadata": {
        "id": "view-in-github",
        "colab_type": "text"
      },
      "source": [
        "<a href=\"https://colab.research.google.com/github/abdhsn8/Saad/blob/main/CNN.ipynb\" target=\"_parent\"><img src=\"https://colab.research.google.com/assets/colab-badge.svg\" alt=\"Open In Colab\"/></a>"
      ]
    },
    {
      "cell_type": "code",
      "metadata": {
        "id": "oXpf235MkoVL"
      },
      "source": [
        "import scipy.io as mp\r\n",
        "from keras.utils import np_utils\r\n",
        "import time\r\n",
        "start_time = time.time()\r\n",
        "# your code\r\n",
        "import numpy \r\n",
        "import keras\r\n",
        "from keras.datasets import imdb\r\n",
        "from keras.models import Sequential\r\n",
        "from keras.utils import np_utils\r\n",
        "from keras.layers import Dense, Activation, Dropout, Flatten\r\n",
        "from keras.layers import Conv2D, MaxPooling2D\r\n",
        "from keras import models\r\n",
        "from keras import layers\r\n",
        "from keras import optimizers\r\n",
        "from keras import losses\r\n",
        "from keras import metrics\r\n",
        "import pandas as pd\r\n",
        "from sklearn import datasets, linear_model\r\n",
        "from sklearn.model_selection import train_test_split\r\n",
        "from matplotlib import pyplot as plt\r\n",
        "from sklearn.metrics import accuracy_score, recall_score, classification_report"
      ],
      "execution_count": 112,
      "outputs": []
    },
    {
      "cell_type": "code",
      "metadata": {
        "colab": {
          "base_uri": "https://localhost:8080/"
        },
        "id": "IFgbKdIAkviR",
        "outputId": "f8979543-6988-4076-ab12-d4b9f5c3b7cf"
      },
      "source": [
        "data1 = numpy.loadtxt(\"qsnonqs.csv\", delimiter=\",\")\r\n",
        "data = data1[:, :108]\r\n",
        "y = data1[:, 108:111]\r\n",
        "rows = len(y)\r\n",
        "columns = len(y[0])\r\n",
        "print (rows)\r\n",
        "print (columns)\r\n",
        "print (y)"
      ],
      "execution_count": 113,
      "outputs": [
        {
          "output_type": "stream",
          "text": [
            "3775\n",
            "3\n",
            "[[1. 0. 0.]\n",
            " [1. 0. 0.]\n",
            " [1. 0. 0.]\n",
            " ...\n",
            " [1. 0. 0.]\n",
            " [1. 0. 0.]\n",
            " [1. 0. 0.]]\n"
          ],
          "name": "stdout"
        }
      ]
    },
    {
      "cell_type": "code",
      "metadata": {
        "id": "n1Xx8C5dk1AB"
      },
      "source": [
        "class TimingCallback(keras.callbacks.Callback):\r\n",
        "    def on_train_begin(self, logs={}):\r\n",
        "        self.starttime = time()\r\n",
        "\r\n",
        "    def on_train_end(self, logs={}):\r\n",
        "        self.time = (time() - self.starttime)\r\n",
        "data_3d = data.reshape(3775, 1, 9, 12)\r\n",
        "\r\n",
        "X_train, X_test, y_train, y_test = train_test_split(data_3d, y, test_size=0.25)"
      ],
      "execution_count": 114,
      "outputs": []
    },
    {
      "cell_type": "code",
      "metadata": {
        "id": "ccCRrPpbk6iJ"
      },
      "source": [
        "# L2 normalize data_3d along rows\r\n",
        "# Our vectorized labels\r\n",
        "#y_train = numpy.asarray(y_train).astype('float32').reshape((-1,1))\r\n",
        "#y_test = numpy.asarray(y_test).astype('float32').reshape((-1,1))\r\n",
        "x = np_utils.normalize(data_3d, -1, 1)\r\n",
        "x.shape\r\n",
        "rmslr = 0.001\r\n",
        "epoch = 100\r\n",
        "model = Sequential()"
      ],
      "execution_count": 115,
      "outputs": []
    },
    {
      "cell_type": "code",
      "metadata": {
        "id": "zTXxkGeGk_ep"
      },
      "source": [
        "# first convolution\r\n",
        "model.add(Conv2D(50, kernel_size=(1, 9), padding='valid', activation='relu', input_shape=(1, 9, 12),data_format='channels_first'))\r\n",
        "\r\n",
        "# second convolution and maxpooling layer\r\n",
        "model.add(Conv2D(20, kernel_size=(1, 4), padding='valid', activation='relu'))\r\n",
        "model.add(MaxPooling2D(pool_size=(2, 2), data_format='channels_first'))  # dim_ordering=\"th\"))\r\n",
        "\r\n",
        "# third convolution and maxpooling layer\r\n",
        "#model.add(Conv2D(30, kernel_size=(2, 2), padding='valid',activation='relu'))\r\n",
        "#model.add(MaxPooling2D(pool_size=(2, 2), data_format='channels_first'))#dim_ordering=\"th\"))\r\n",
        "\r\n",
        "\r\n",
        "# Flattening\r\n",
        "model.add(Flatten())\r\n",
        "\r\n",
        "# fully connected layers\r\n",
        "model.add(Dense(128, activation='relu'))\r\n",
        "# model.add(Dense(32, activation='relu'))\r\n",
        "model.add(Dense(3, activation='softmax'))"
      ],
      "execution_count": 116,
      "outputs": []
    },
    {
      "cell_type": "code",
      "metadata": {
        "id": "-wqROw9PlCuB"
      },
      "source": [
        "rmslr = 0.001\r\n",
        "epoch = 60\r\n",
        "cb = TimingCallback()\r\n",
        "rms = keras.optimizers.RMSprop(lr=rmslr, rho=0.9, epsilon=1e-6, decay=0.0)\r\n",
        "sgd = keras.optimizers.SGD(lr=0.01, momentum=0.0, decay=0.0, nesterov=True)\r\n",
        "adam = keras.optimizers.Adam(lr=0.001)\r\n",
        "model.compile(loss=keras.losses.binary_crossentropy, optimizer=adam, metrics=['accuracy'])"
      ],
      "execution_count": 117,
      "outputs": []
    },
    {
      "cell_type": "code",
      "metadata": {
        "colab": {
          "base_uri": "https://localhost:8080/"
        },
        "id": "LZZKGF2heL0S",
        "outputId": "4e67c046-8ff5-4194-a4c5-18f0cbc7392d"
      },
      "source": [
        "history = model.fit(X_train, y_train, epochs=epoch, batch_size=50)\r\n",
        "results = model.evaluate(X_test, y_test)\r\n",
        "print(results)"
      ],
      "execution_count": 118,
      "outputs": [
        {
          "output_type": "stream",
          "text": [
            "Epoch 1/60\n",
            "57/57 [==============================] - 1s 2ms/step - loss: 1.1433 - accuracy: 0.4726\n",
            "Epoch 2/60\n",
            "57/57 [==============================] - 0s 2ms/step - loss: 0.5458 - accuracy: 0.5413\n",
            "Epoch 3/60\n",
            "57/57 [==============================] - 0s 2ms/step - loss: 0.5414 - accuracy: 0.5815\n",
            "Epoch 4/60\n",
            "57/57 [==============================] - 0s 2ms/step - loss: 0.5362 - accuracy: 0.5666\n",
            "Epoch 5/60\n",
            "57/57 [==============================] - 0s 3ms/step - loss: 0.5121 - accuracy: 0.6157\n",
            "Epoch 6/60\n",
            "57/57 [==============================] - 0s 2ms/step - loss: 0.5096 - accuracy: 0.6026\n",
            "Epoch 7/60\n",
            "57/57 [==============================] - 0s 2ms/step - loss: 0.4873 - accuracy: 0.6210\n",
            "Epoch 8/60\n",
            "57/57 [==============================] - 0s 3ms/step - loss: 0.4881 - accuracy: 0.6116\n",
            "Epoch 9/60\n",
            "57/57 [==============================] - 0s 3ms/step - loss: 0.4758 - accuracy: 0.6423\n",
            "Epoch 10/60\n",
            "57/57 [==============================] - 0s 2ms/step - loss: 0.4790 - accuracy: 0.6235\n",
            "Epoch 11/60\n",
            "57/57 [==============================] - 0s 2ms/step - loss: 0.4678 - accuracy: 0.6391\n",
            "Epoch 12/60\n",
            "57/57 [==============================] - 0s 3ms/step - loss: 0.4615 - accuracy: 0.6451\n",
            "Epoch 13/60\n",
            "57/57 [==============================] - 0s 2ms/step - loss: 0.4568 - accuracy: 0.6597\n",
            "Epoch 14/60\n",
            "57/57 [==============================] - 0s 2ms/step - loss: 0.4487 - accuracy: 0.6382\n",
            "Epoch 15/60\n",
            "57/57 [==============================] - 0s 2ms/step - loss: 0.4403 - accuracy: 0.6725\n",
            "Epoch 16/60\n",
            "57/57 [==============================] - 0s 2ms/step - loss: 0.4366 - accuracy: 0.6733\n",
            "Epoch 17/60\n",
            "57/57 [==============================] - 0s 2ms/step - loss: 0.4269 - accuracy: 0.6818\n",
            "Epoch 18/60\n",
            "57/57 [==============================] - 0s 2ms/step - loss: 0.4328 - accuracy: 0.6737\n",
            "Epoch 19/60\n",
            "57/57 [==============================] - 0s 2ms/step - loss: 0.4301 - accuracy: 0.6759\n",
            "Epoch 20/60\n",
            "57/57 [==============================] - 0s 3ms/step - loss: 0.4221 - accuracy: 0.6828\n",
            "Epoch 21/60\n",
            "57/57 [==============================] - 0s 2ms/step - loss: 0.4393 - accuracy: 0.6551\n",
            "Epoch 22/60\n",
            "57/57 [==============================] - 0s 2ms/step - loss: 0.4190 - accuracy: 0.6771\n",
            "Epoch 23/60\n",
            "57/57 [==============================] - 0s 2ms/step - loss: 0.4225 - accuracy: 0.6750\n",
            "Epoch 24/60\n",
            "57/57 [==============================] - 0s 2ms/step - loss: 0.4051 - accuracy: 0.6864\n",
            "Epoch 25/60\n",
            "57/57 [==============================] - 0s 3ms/step - loss: 0.4009 - accuracy: 0.7094\n",
            "Epoch 26/60\n",
            "57/57 [==============================] - 0s 3ms/step - loss: 0.4009 - accuracy: 0.7059\n",
            "Epoch 27/60\n",
            "57/57 [==============================] - 0s 2ms/step - loss: 0.4057 - accuracy: 0.7001\n",
            "Epoch 28/60\n",
            "57/57 [==============================] - 0s 3ms/step - loss: 0.4190 - accuracy: 0.6937\n",
            "Epoch 29/60\n",
            "57/57 [==============================] - 0s 2ms/step - loss: 0.4038 - accuracy: 0.6830\n",
            "Epoch 30/60\n",
            "57/57 [==============================] - 0s 2ms/step - loss: 0.3864 - accuracy: 0.7178\n",
            "Epoch 31/60\n",
            "57/57 [==============================] - 0s 2ms/step - loss: 0.3824 - accuracy: 0.7198\n",
            "Epoch 32/60\n",
            "57/57 [==============================] - 0s 2ms/step - loss: 0.3838 - accuracy: 0.7015\n",
            "Epoch 33/60\n",
            "57/57 [==============================] - 0s 2ms/step - loss: 0.3785 - accuracy: 0.7243\n",
            "Epoch 34/60\n",
            "57/57 [==============================] - 0s 2ms/step - loss: 0.3823 - accuracy: 0.7204\n",
            "Epoch 35/60\n",
            "57/57 [==============================] - 0s 2ms/step - loss: 0.3630 - accuracy: 0.7464\n",
            "Epoch 36/60\n",
            "57/57 [==============================] - 0s 2ms/step - loss: 0.3694 - accuracy: 0.7332\n",
            "Epoch 37/60\n",
            "57/57 [==============================] - 0s 2ms/step - loss: 0.3688 - accuracy: 0.7377\n",
            "Epoch 38/60\n",
            "57/57 [==============================] - 0s 2ms/step - loss: 0.3579 - accuracy: 0.7461\n",
            "Epoch 39/60\n",
            "57/57 [==============================] - 0s 3ms/step - loss: 0.3530 - accuracy: 0.7574\n",
            "Epoch 40/60\n",
            "57/57 [==============================] - 0s 2ms/step - loss: 0.3559 - accuracy: 0.7455\n",
            "Epoch 41/60\n",
            "57/57 [==============================] - 0s 3ms/step - loss: 0.3617 - accuracy: 0.7517\n",
            "Epoch 42/60\n",
            "57/57 [==============================] - 0s 2ms/step - loss: 0.3379 - accuracy: 0.7777\n",
            "Epoch 43/60\n",
            "57/57 [==============================] - 0s 3ms/step - loss: 0.3535 - accuracy: 0.7349\n",
            "Epoch 44/60\n",
            "57/57 [==============================] - 0s 3ms/step - loss: 0.3442 - accuracy: 0.7638\n",
            "Epoch 45/60\n",
            "57/57 [==============================] - 0s 3ms/step - loss: 0.3254 - accuracy: 0.7822\n",
            "Epoch 46/60\n",
            "57/57 [==============================] - 0s 2ms/step - loss: 0.3164 - accuracy: 0.7833\n",
            "Epoch 47/60\n",
            "57/57 [==============================] - 0s 2ms/step - loss: 0.3114 - accuracy: 0.8012\n",
            "Epoch 48/60\n",
            "57/57 [==============================] - 0s 2ms/step - loss: 0.3610 - accuracy: 0.7307\n",
            "Epoch 49/60\n",
            "57/57 [==============================] - 0s 2ms/step - loss: 0.3159 - accuracy: 0.7786\n",
            "Epoch 50/60\n",
            "57/57 [==============================] - 0s 2ms/step - loss: 0.3165 - accuracy: 0.7748\n",
            "Epoch 51/60\n",
            "57/57 [==============================] - 0s 2ms/step - loss: 0.3099 - accuracy: 0.7947\n",
            "Epoch 52/60\n",
            "57/57 [==============================] - 0s 2ms/step - loss: 0.3079 - accuracy: 0.7888\n",
            "Epoch 53/60\n",
            "57/57 [==============================] - 0s 2ms/step - loss: 0.2902 - accuracy: 0.8131\n",
            "Epoch 54/60\n",
            "57/57 [==============================] - 0s 2ms/step - loss: 0.2919 - accuracy: 0.8167\n",
            "Epoch 55/60\n",
            "57/57 [==============================] - 0s 2ms/step - loss: 0.2879 - accuracy: 0.8036\n",
            "Epoch 56/60\n",
            "57/57 [==============================] - 0s 3ms/step - loss: 0.2761 - accuracy: 0.8255\n",
            "Epoch 57/60\n",
            "57/57 [==============================] - 0s 2ms/step - loss: 0.2771 - accuracy: 0.8147\n",
            "Epoch 58/60\n",
            "57/57 [==============================] - 0s 2ms/step - loss: 0.2770 - accuracy: 0.8172\n",
            "Epoch 59/60\n",
            "57/57 [==============================] - 0s 3ms/step - loss: 0.2639 - accuracy: 0.8333\n",
            "Epoch 60/60\n",
            "57/57 [==============================] - 0s 2ms/step - loss: 0.2591 - accuracy: 0.8297\n",
            "30/30 [==============================] - 0s 2ms/step - loss: 0.6241 - accuracy: 0.6451\n",
            "[0.6240944266319275, 0.6451271176338196]\n"
          ],
          "name": "stdout"
        }
      ]
    }
  ]
}