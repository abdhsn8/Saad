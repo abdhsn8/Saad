{
  "nbformat": 4,
  "nbformat_minor": 0,
  "metadata": {
    "colab": {
      "name": "MLP.ipynb",
      "provenance": [],
      "authorship_tag": "ABX9TyNIZyQS25NOII9QXJm4LsXb",
      "include_colab_link": true
    },
    "kernelspec": {
      "name": "python3",
      "display_name": "Python 3"
    },
    "accelerator": "GPU"
  },
  "cells": [
    {
      "cell_type": "markdown",
      "metadata": {
        "id": "view-in-github",
        "colab_type": "text"
      },
      "source": [
        "<a href=\"https://colab.research.google.com/github/abdhsn8/Saad/blob/main/MLP.ipynb\" target=\"_parent\"><img src=\"https://colab.research.google.com/assets/colab-badge.svg\" alt=\"Open In Colab\"/></a>"
      ]
    },
    {
      "cell_type": "code",
      "metadata": {
        "colab": {
          "base_uri": "https://localhost:8080/"
        },
        "id": "TTQXRb_dw2cE",
        "outputId": "d2c60d7c-2819-4088-c0ed-e6530b15658c"
      },
      "source": [
        "import scipy.io as mp\r\n",
        "from keras.utils import np_utils\r\n",
        "import time\r\n",
        "start_time = time.time()\r\n",
        "# your code\r\n",
        "import numpy\r\n",
        "\r\n",
        "from keras.datasets import imdb\r\n",
        "\r\n",
        "from keras import models\r\n",
        "from keras import layers\r\n",
        "from keras import optimizers\r\n",
        "from keras import losses\r\n",
        "from keras import metrics\r\n",
        "import pandas as pd\r\n",
        "from sklearn import datasets, linear_model\r\n",
        "from sklearn.model_selection import train_test_split\r\n",
        "from matplotlib import pyplot as plt\r\n",
        "data=numpy.loadtxt(\"qsnonqs.csv\", delimiter=\",\")\r\n",
        "print(numpy.shape(data))\r\n",
        "Y=data[:, 108:111]\r\n",
        "data_length=data.shape;\r\n",
        "#data_length[1]\r\n",
        "X=data[:, :108]\r\n",
        "X_train, X_test, y_train, y_test = train_test_split(X, Y, test_size=0.25)\r\n",
        "mean = X_train.mean(axis=0)\r\n",
        "X_train -= mean\r\n",
        "std = X_train.std(axis=0)\r\n",
        "X_train /= std\r\n",
        "X_test -= mean\r\n",
        "X_test /= std\r\n",
        "y_train = numpy.asarray(y_train).astype('float32')\r\n",
        "y_test = numpy.asarray(y_test).astype('float32')\r\n",
        "from keras import models\r\n",
        "from keras import layers\r\n",
        "from keras import regularizers\r\n",
        "model = models.Sequential()\r\n",
        "model.add(layers.Dense(256,  activation='relu', input_shape=(108,)))\r\n",
        "model.add(layers.Dense(256, activation='relu'))\r\n",
        "model.add(layers.Dense(256, activation='relu'))\r\n",
        "model.add(layers.Dense(256, activation='relu'))\r\n",
        "model.add(layers.Dense(3, activation='sigmoid'))\r\n",
        "model.compile(optimizer=optimizers.RMSprop(lr=0.001), loss=losses.binary_crossentropy, metrics=[metrics.binary_accuracy])\r\n",
        "x_val = X_train[:500]\r\n",
        "partial_x_train = X_train[500:]\r\n",
        "y_val = y_train[:500]\r\n",
        "partial_y_train = y_train[500:]\r\n",
        "history = model.fit(partial_x_train, partial_y_train, epochs=10, batch_size=128, validation_data=(x_val, y_val))\r\n",
        "results = model.evaluate(X_test, y_test)\r\n",
        "y_pred = model.predict(X_test)\r\n",
        "print(results)\r\n",
        "\r\n"
      ],
      "execution_count": 6,
      "outputs": [
        {
          "output_type": "stream",
          "text": [
            "(3775, 111)\n",
            "Epoch 1/10\n",
            "19/19 [==============================] - 1s 10ms/step - loss: 0.5639 - binary_accuracy: 0.6747 - val_loss: 0.4880 - val_binary_accuracy: 0.7427\n",
            "Epoch 2/10\n",
            "19/19 [==============================] - 0s 4ms/step - loss: 0.4580 - binary_accuracy: 0.7676 - val_loss: 0.4385 - val_binary_accuracy: 0.7633\n",
            "Epoch 3/10\n",
            "19/19 [==============================] - 0s 4ms/step - loss: 0.4050 - binary_accuracy: 0.8027 - val_loss: 0.4793 - val_binary_accuracy: 0.7547\n",
            "Epoch 4/10\n",
            "19/19 [==============================] - 0s 4ms/step - loss: 0.3906 - binary_accuracy: 0.8158 - val_loss: 0.5127 - val_binary_accuracy: 0.7080\n",
            "Epoch 5/10\n",
            "19/19 [==============================] - 0s 4ms/step - loss: 0.3637 - binary_accuracy: 0.8233 - val_loss: 0.4380 - val_binary_accuracy: 0.7900\n",
            "Epoch 6/10\n",
            "19/19 [==============================] - 0s 4ms/step - loss: 0.3260 - binary_accuracy: 0.8529 - val_loss: 0.4607 - val_binary_accuracy: 0.7820\n",
            "Epoch 7/10\n",
            "19/19 [==============================] - 0s 4ms/step - loss: 0.3184 - binary_accuracy: 0.8593 - val_loss: 0.5273 - val_binary_accuracy: 0.7400\n",
            "Epoch 8/10\n",
            "19/19 [==============================] - 0s 4ms/step - loss: 0.2938 - binary_accuracy: 0.8636 - val_loss: 0.4930 - val_binary_accuracy: 0.7753\n",
            "Epoch 9/10\n",
            "19/19 [==============================] - 0s 4ms/step - loss: 0.2657 - binary_accuracy: 0.8836 - val_loss: 0.6071 - val_binary_accuracy: 0.7720\n",
            "Epoch 10/10\n",
            "19/19 [==============================] - 0s 4ms/step - loss: 0.2580 - binary_accuracy: 0.8947 - val_loss: 0.5592 - val_binary_accuracy: 0.7673\n",
            "30/30 [==============================] - 0s 1ms/step - loss: 0.5994 - binary_accuracy: 0.7733\n",
            "[0.5994417667388916, 0.7733050584793091]\n"
          ],
          "name": "stdout"
        }
      ]
    }
  ]
}