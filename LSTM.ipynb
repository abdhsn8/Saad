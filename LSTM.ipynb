{
  "nbformat": 4,
  "nbformat_minor": 0,
  "metadata": {
    "colab": {
      "name": "LSTM.ipynb",
      "provenance": [],
      "authorship_tag": "ABX9TyOY33iOdiWqNSC0k4eVPZK5",
      "include_colab_link": true
    },
    "kernelspec": {
      "name": "python3",
      "display_name": "Python 3"
    }
  },
  "cells": [
    {
      "cell_type": "markdown",
      "metadata": {
        "id": "view-in-github",
        "colab_type": "text"
      },
      "source": [
        "<a href=\"https://colab.research.google.com/github/abdhsn8/Saad/blob/main/LSTM.ipynb\" target=\"_parent\"><img src=\"https://colab.research.google.com/assets/colab-badge.svg\" alt=\"Open In Colab\"/></a>"
      ]
    },
    {
      "cell_type": "code",
      "metadata": {
        "id": "r4Hbw0LsLEVG"
      },
      "source": [
        "import scipy.io as mp\r\n",
        "from keras.utils import np_utils\r\n",
        "import time\r\n",
        "start_time = time.time()\r\n",
        "# your code\r\n",
        "import numpy \r\n",
        "import keras\r\n",
        "import tensorflow as tf\r\n",
        "from keras.datasets import imdb\r\n",
        "from keras.models import Sequential\r\n",
        "from keras.utils import np_utils\r\n",
        "from keras.layers import Dense, Activation, Dropout, Flatten\r\n",
        "from keras.layers import Conv2D, MaxPooling2D\r\n",
        "from tensorflow.keras.layers import Embedding\r\n",
        "from tensorflow.keras.layers import LSTM\r\n",
        "from keras import models\r\n",
        "from keras import layers\r\n",
        "from keras import optimizers\r\n",
        "from keras import losses\r\n",
        "from keras import metrics\r\n",
        "import pandas as pd\r\n",
        "from sklearn import datasets, linear_model\r\n",
        "from sklearn.model_selection import train_test_split\r\n",
        "from matplotlib import pyplot as plt\r\n",
        "from sklearn.metrics import accuracy_score, recall_score, classification_report"
      ],
      "execution_count": 57,
      "outputs": []
    },
    {
      "cell_type": "code",
      "metadata": {
        "colab": {
          "base_uri": "https://localhost:8080/"
        },
        "id": "2WoJH1r7LGc4",
        "outputId": "606f6390-ca0a-4f1c-83e2-a7ba239b1713"
      },
      "source": [
        "data1 = numpy.loadtxt(\"qsnonqs(LSTM).csv\", delimiter=\",\")\r\n",
        "data = data1[:, :108]\r\n",
        "y = data1[:, 108]\r\n",
        "print (len(y))\r\n",
        "print (y)"
      ],
      "execution_count": 64,
      "outputs": [
        {
          "output_type": "stream",
          "text": [
            "3775\n",
            "[1. 1. 1. ... 1. 1. 1.]\n"
          ],
          "name": "stdout"
        }
      ]
    },
    {
      "cell_type": "code",
      "metadata": {
        "colab": {
          "base_uri": "https://localhost:8080/"
        },
        "id": "yZswZsVtReQj",
        "outputId": "9c08bb54-81dd-4d1f-e767-235ce5573794"
      },
      "source": [
        "from sklearn.preprocessing import StandardScaler\r\n",
        "scaler = StandardScaler()\r\n",
        "scaler.fit(x)\r\n",
        "x = scaler.transform(x)\r\n",
        "from keras.utils import to_categorical\r\n",
        "y = to_categorical(y)\r\n",
        "y"
      ],
      "execution_count": 59,
      "outputs": [
        {
          "output_type": "execute_result",
          "data": {
            "text/plain": [
              "array([[0., 1., 0.],\n",
              "       [0., 1., 0.],\n",
              "       [0., 1., 0.],\n",
              "       ...,\n",
              "       [0., 1., 0.],\n",
              "       [0., 1., 0.],\n",
              "       [0., 1., 0.]], dtype=float32)"
            ]
          },
          "metadata": {
            "tags": []
          },
          "execution_count": 59
        }
      ]
    },
    {
      "cell_type": "code",
      "metadata": {
        "id": "C2v79eYELI8_"
      },
      "source": [
        "from sklearn.model_selection import train_test_split\r\n",
        "\r\n",
        "x_train, x_test, y_train, y_test = train_test_split(data, y, test_size = 0.2, random_state = 4)"
      ],
      "execution_count": 60,
      "outputs": []
    },
    {
      "cell_type": "code",
      "metadata": {
        "id": "EZcB50MoLLcr"
      },
      "source": [
        "x_train = numpy.reshape(x_train, (x_train.shape[0],1,x.shape[1]))\r\n",
        "x_test = numpy.reshape(x_test, (x_test.shape[0],1,x.shape[1]))"
      ],
      "execution_count": 61,
      "outputs": []
    },
    {
      "cell_type": "code",
      "metadata": {
        "colab": {
          "base_uri": "https://localhost:8080/"
        },
        "id": "lgku3cLoLPF3",
        "outputId": "b954d772-0235-4c5d-93b2-54b1443d94ff"
      },
      "source": [
        "tf.keras.backend.clear_session()\r\n",
        "\r\n",
        "model = Sequential()\r\n",
        "model.add(LSTM(64, input_shape=(1,108), activation=\"relu\", return_sequences=True))\r\n",
        "model.add(Dropout(0.2))\r\n",
        "model.add(LSTM(32,activation=\"sigmoid\"))\r\n",
        "model.add(Dropout(0.2))\r\n",
        "#model.add(LSTM(24,return_sequences=True))\r\n",
        "#model.add(Dropout(0.2))\r\n",
        "#model.add(LSTM(10))\r\n",
        "#model.add(Dropout(0.2))\r\n",
        "\r\n",
        "model.add(Dense(3, activation='sigmoid'))\r\n",
        "\r\n",
        "from keras.optimizers import SGD\r\n",
        "\r\n",
        "model.compile(loss = 'categorical_crossentropy', optimizer = \"adam\", metrics = ['accuracy'])\r\n",
        "model.summary()"
      ],
      "execution_count": 71,
      "outputs": [
        {
          "output_type": "stream",
          "text": [
            "Model: \"sequential\"\n",
            "_________________________________________________________________\n",
            "Layer (type)                 Output Shape              Param #   \n",
            "=================================================================\n",
            "lstm (LSTM)                  (None, 1, 64)             44288     \n",
            "_________________________________________________________________\n",
            "dropout (Dropout)            (None, 1, 64)             0         \n",
            "_________________________________________________________________\n",
            "lstm_1 (LSTM)                (None, 32)                12416     \n",
            "_________________________________________________________________\n",
            "dropout_1 (Dropout)          (None, 32)                0         \n",
            "_________________________________________________________________\n",
            "dense (Dense)                (None, 3)                 99        \n",
            "=================================================================\n",
            "Total params: 56,803\n",
            "Trainable params: 56,803\n",
            "Non-trainable params: 0\n",
            "_________________________________________________________________\n"
          ],
          "name": "stdout"
        }
      ]
    },
    {
      "cell_type": "code",
      "metadata": {
        "colab": {
          "base_uri": "https://localhost:8080/"
        },
        "id": "apr_7PXjLxEc",
        "outputId": "a17c4e4a-2a2f-47ca-ea8d-be81bd6aeb48"
      },
      "source": [
        "history = model.fit(x_train, y_train, epochs = 100, validation_data= (x_test, y_test))\r\n",
        "score, acc = model.evaluate(x_test, y_test)"
      ],
      "execution_count": 72,
      "outputs": [
        {
          "output_type": "stream",
          "text": [
            "Epoch 1/100\n",
            "95/95 [==============================] - 3s 7ms/step - loss: 1.0172 - accuracy: 0.4770 - val_loss: 0.9183 - val_accuracy: 0.5377\n",
            "Epoch 2/100\n",
            "95/95 [==============================] - 0s 4ms/step - loss: 0.9782 - accuracy: 0.5087 - val_loss: 0.9181 - val_accuracy: 0.5483\n",
            "Epoch 3/100\n",
            "95/95 [==============================] - 0s 3ms/step - loss: 0.9575 - accuracy: 0.5165 - val_loss: 0.8798 - val_accuracy: 0.5603\n",
            "Epoch 4/100\n",
            "95/95 [==============================] - 0s 3ms/step - loss: 0.9308 - accuracy: 0.5356 - val_loss: 0.8938 - val_accuracy: 0.5497\n",
            "Epoch 5/100\n",
            "95/95 [==============================] - 0s 3ms/step - loss: 0.9180 - accuracy: 0.5223 - val_loss: 0.8746 - val_accuracy: 0.5656\n",
            "Epoch 6/100\n",
            "95/95 [==============================] - 0s 3ms/step - loss: 0.9063 - accuracy: 0.5388 - val_loss: 0.8817 - val_accuracy: 0.5298\n",
            "Epoch 7/100\n",
            "95/95 [==============================] - 0s 3ms/step - loss: 0.9221 - accuracy: 0.5375 - val_loss: 0.8626 - val_accuracy: 0.5709\n",
            "Epoch 8/100\n",
            "95/95 [==============================] - 0s 3ms/step - loss: 0.9145 - accuracy: 0.5487 - val_loss: 0.8960 - val_accuracy: 0.5603\n",
            "Epoch 9/100\n",
            "95/95 [==============================] - 0s 3ms/step - loss: 0.8962 - accuracy: 0.5308 - val_loss: 0.8634 - val_accuracy: 0.5656\n",
            "Epoch 10/100\n",
            "95/95 [==============================] - 0s 4ms/step - loss: 0.8769 - accuracy: 0.5623 - val_loss: 0.8543 - val_accuracy: 0.5735\n",
            "Epoch 11/100\n",
            "95/95 [==============================] - 0s 3ms/step - loss: 0.8742 - accuracy: 0.5574 - val_loss: 0.8667 - val_accuracy: 0.5709\n",
            "Epoch 12/100\n",
            "95/95 [==============================] - 0s 4ms/step - loss: 0.8819 - accuracy: 0.5524 - val_loss: 0.8428 - val_accuracy: 0.5709\n",
            "Epoch 13/100\n",
            "95/95 [==============================] - 0s 4ms/step - loss: 0.8418 - accuracy: 0.5834 - val_loss: 0.8351 - val_accuracy: 0.5748\n",
            "Epoch 14/100\n",
            "95/95 [==============================] - 0s 3ms/step - loss: 0.8714 - accuracy: 0.5525 - val_loss: 0.8226 - val_accuracy: 0.5828\n",
            "Epoch 15/100\n",
            "95/95 [==============================] - 0s 3ms/step - loss: 0.8515 - accuracy: 0.5630 - val_loss: 0.8227 - val_accuracy: 0.5907\n",
            "Epoch 16/100\n",
            "95/95 [==============================] - 0s 4ms/step - loss: 0.8384 - accuracy: 0.5718 - val_loss: 0.8225 - val_accuracy: 0.5841\n",
            "Epoch 17/100\n",
            "95/95 [==============================] - 0s 4ms/step - loss: 0.8435 - accuracy: 0.5909 - val_loss: 0.8409 - val_accuracy: 0.5735\n",
            "Epoch 18/100\n",
            "95/95 [==============================] - 0s 3ms/step - loss: 0.8336 - accuracy: 0.5725 - val_loss: 0.8220 - val_accuracy: 0.5788\n",
            "Epoch 19/100\n",
            "95/95 [==============================] - 0s 3ms/step - loss: 0.8351 - accuracy: 0.5736 - val_loss: 0.8264 - val_accuracy: 0.5974\n",
            "Epoch 20/100\n",
            "95/95 [==============================] - 0s 3ms/step - loss: 0.8429 - accuracy: 0.5841 - val_loss: 0.8217 - val_accuracy: 0.5947\n",
            "Epoch 21/100\n",
            "95/95 [==============================] - 0s 4ms/step - loss: 0.8543 - accuracy: 0.5737 - val_loss: 0.8177 - val_accuracy: 0.5907\n",
            "Epoch 22/100\n",
            "95/95 [==============================] - 0s 4ms/step - loss: 0.8321 - accuracy: 0.5782 - val_loss: 0.8112 - val_accuracy: 0.5854\n",
            "Epoch 23/100\n",
            "95/95 [==============================] - 0s 4ms/step - loss: 0.8212 - accuracy: 0.5972 - val_loss: 0.8126 - val_accuracy: 0.5907\n",
            "Epoch 24/100\n",
            "95/95 [==============================] - 0s 4ms/step - loss: 0.8213 - accuracy: 0.6015 - val_loss: 0.8070 - val_accuracy: 0.5828\n",
            "Epoch 25/100\n",
            "95/95 [==============================] - 0s 4ms/step - loss: 0.8272 - accuracy: 0.5903 - val_loss: 0.7904 - val_accuracy: 0.6040\n",
            "Epoch 26/100\n",
            "95/95 [==============================] - 0s 4ms/step - loss: 0.8108 - accuracy: 0.5892 - val_loss: 0.8158 - val_accuracy: 0.5762\n",
            "Epoch 27/100\n",
            "95/95 [==============================] - 0s 4ms/step - loss: 0.8502 - accuracy: 0.5682 - val_loss: 0.8024 - val_accuracy: 0.6026\n",
            "Epoch 28/100\n",
            "95/95 [==============================] - 0s 4ms/step - loss: 0.8347 - accuracy: 0.5795 - val_loss: 0.7982 - val_accuracy: 0.6013\n",
            "Epoch 29/100\n",
            "95/95 [==============================] - 0s 4ms/step - loss: 0.8232 - accuracy: 0.5959 - val_loss: 0.8113 - val_accuracy: 0.5934\n",
            "Epoch 30/100\n",
            "95/95 [==============================] - 0s 3ms/step - loss: 0.8571 - accuracy: 0.5790 - val_loss: 0.8010 - val_accuracy: 0.5788\n",
            "Epoch 31/100\n",
            "95/95 [==============================] - 0s 3ms/step - loss: 0.8260 - accuracy: 0.5887 - val_loss: 0.8013 - val_accuracy: 0.5974\n",
            "Epoch 32/100\n",
            "95/95 [==============================] - 0s 3ms/step - loss: 0.8321 - accuracy: 0.5790 - val_loss: 0.8104 - val_accuracy: 0.6026\n",
            "Epoch 33/100\n",
            "95/95 [==============================] - 0s 3ms/step - loss: 0.8090 - accuracy: 0.6017 - val_loss: 0.8012 - val_accuracy: 0.6026\n",
            "Epoch 34/100\n",
            "95/95 [==============================] - 0s 3ms/step - loss: 0.8137 - accuracy: 0.6024 - val_loss: 0.7924 - val_accuracy: 0.6093\n",
            "Epoch 35/100\n",
            "95/95 [==============================] - 0s 3ms/step - loss: 0.8000 - accuracy: 0.6043 - val_loss: 0.8209 - val_accuracy: 0.6026\n",
            "Epoch 36/100\n",
            "95/95 [==============================] - 0s 4ms/step - loss: 0.8348 - accuracy: 0.5874 - val_loss: 0.7983 - val_accuracy: 0.5788\n",
            "Epoch 37/100\n",
            "95/95 [==============================] - 0s 4ms/step - loss: 0.8102 - accuracy: 0.5893 - val_loss: 0.8011 - val_accuracy: 0.5907\n",
            "Epoch 38/100\n",
            "95/95 [==============================] - 0s 4ms/step - loss: 0.8224 - accuracy: 0.5855 - val_loss: 0.7852 - val_accuracy: 0.6119\n",
            "Epoch 39/100\n",
            "95/95 [==============================] - 0s 3ms/step - loss: 0.8079 - accuracy: 0.6043 - val_loss: 0.7882 - val_accuracy: 0.6093\n",
            "Epoch 40/100\n",
            "95/95 [==============================] - 0s 3ms/step - loss: 0.7854 - accuracy: 0.5991 - val_loss: 0.7831 - val_accuracy: 0.5974\n",
            "Epoch 41/100\n",
            "95/95 [==============================] - 0s 3ms/step - loss: 0.8134 - accuracy: 0.6030 - val_loss: 0.7779 - val_accuracy: 0.6106\n",
            "Epoch 42/100\n",
            "95/95 [==============================] - 0s 3ms/step - loss: 0.7973 - accuracy: 0.6033 - val_loss: 0.7762 - val_accuracy: 0.6066\n",
            "Epoch 43/100\n",
            "95/95 [==============================] - 0s 3ms/step - loss: 0.7938 - accuracy: 0.6077 - val_loss: 0.7902 - val_accuracy: 0.5921\n",
            "Epoch 44/100\n",
            "95/95 [==============================] - 0s 3ms/step - loss: 0.8113 - accuracy: 0.5886 - val_loss: 0.8029 - val_accuracy: 0.5907\n",
            "Epoch 45/100\n",
            "95/95 [==============================] - 0s 3ms/step - loss: 0.7931 - accuracy: 0.6146 - val_loss: 0.7804 - val_accuracy: 0.6093\n",
            "Epoch 46/100\n",
            "95/95 [==============================] - 0s 3ms/step - loss: 0.7718 - accuracy: 0.6270 - val_loss: 0.7859 - val_accuracy: 0.6106\n",
            "Epoch 47/100\n",
            "95/95 [==============================] - 0s 3ms/step - loss: 0.8098 - accuracy: 0.5850 - val_loss: 0.7766 - val_accuracy: 0.6093\n",
            "Epoch 48/100\n",
            "95/95 [==============================] - 0s 3ms/step - loss: 0.7594 - accuracy: 0.6287 - val_loss: 0.7885 - val_accuracy: 0.5947\n",
            "Epoch 49/100\n",
            "95/95 [==============================] - 0s 3ms/step - loss: 0.8131 - accuracy: 0.5965 - val_loss: 0.7714 - val_accuracy: 0.6318\n",
            "Epoch 50/100\n",
            "95/95 [==============================] - 0s 3ms/step - loss: 0.7624 - accuracy: 0.6135 - val_loss: 0.7869 - val_accuracy: 0.6013\n",
            "Epoch 51/100\n",
            "95/95 [==============================] - 0s 3ms/step - loss: 0.7613 - accuracy: 0.6344 - val_loss: 0.7828 - val_accuracy: 0.6146\n",
            "Epoch 52/100\n",
            "95/95 [==============================] - 0s 3ms/step - loss: 0.7849 - accuracy: 0.6181 - val_loss: 0.7761 - val_accuracy: 0.5960\n",
            "Epoch 53/100\n",
            "95/95 [==============================] - 0s 3ms/step - loss: 0.8023 - accuracy: 0.6136 - val_loss: 0.7758 - val_accuracy: 0.6040\n",
            "Epoch 54/100\n",
            "95/95 [==============================] - 0s 3ms/step - loss: 0.7808 - accuracy: 0.6171 - val_loss: 0.7688 - val_accuracy: 0.6119\n",
            "Epoch 55/100\n",
            "95/95 [==============================] - 0s 3ms/step - loss: 0.7537 - accuracy: 0.6444 - val_loss: 0.7745 - val_accuracy: 0.5960\n",
            "Epoch 56/100\n",
            "95/95 [==============================] - 0s 3ms/step - loss: 0.7789 - accuracy: 0.6210 - val_loss: 0.7680 - val_accuracy: 0.6172\n",
            "Epoch 57/100\n",
            "95/95 [==============================] - 0s 3ms/step - loss: 0.7491 - accuracy: 0.6356 - val_loss: 0.7864 - val_accuracy: 0.6000\n",
            "Epoch 58/100\n",
            "95/95 [==============================] - 0s 3ms/step - loss: 0.7850 - accuracy: 0.6004 - val_loss: 0.7873 - val_accuracy: 0.6053\n",
            "Epoch 59/100\n",
            "95/95 [==============================] - 0s 3ms/step - loss: 0.7556 - accuracy: 0.6389 - val_loss: 0.7794 - val_accuracy: 0.5934\n",
            "Epoch 60/100\n",
            "95/95 [==============================] - 0s 3ms/step - loss: 0.8090 - accuracy: 0.6113 - val_loss: 0.7927 - val_accuracy: 0.6000\n",
            "Epoch 61/100\n",
            "95/95 [==============================] - 0s 3ms/step - loss: 0.7774 - accuracy: 0.6368 - val_loss: 0.7771 - val_accuracy: 0.6066\n",
            "Epoch 62/100\n",
            "95/95 [==============================] - 0s 3ms/step - loss: 0.7606 - accuracy: 0.6320 - val_loss: 0.7575 - val_accuracy: 0.6238\n",
            "Epoch 63/100\n",
            "95/95 [==============================] - 0s 3ms/step - loss: 0.7659 - accuracy: 0.6218 - val_loss: 0.7668 - val_accuracy: 0.6305\n",
            "Epoch 64/100\n",
            "95/95 [==============================] - 0s 4ms/step - loss: 0.7732 - accuracy: 0.6043 - val_loss: 0.7656 - val_accuracy: 0.6119\n",
            "Epoch 65/100\n",
            "95/95 [==============================] - 0s 3ms/step - loss: 0.7687 - accuracy: 0.6338 - val_loss: 0.7684 - val_accuracy: 0.5934\n",
            "Epoch 66/100\n",
            "95/95 [==============================] - 0s 3ms/step - loss: 0.7661 - accuracy: 0.6276 - val_loss: 0.7579 - val_accuracy: 0.6238\n",
            "Epoch 67/100\n",
            "95/95 [==============================] - 0s 3ms/step - loss: 0.7840 - accuracy: 0.6058 - val_loss: 0.7679 - val_accuracy: 0.6066\n",
            "Epoch 68/100\n",
            "95/95 [==============================] - 0s 3ms/step - loss: 0.7826 - accuracy: 0.6205 - val_loss: 0.7566 - val_accuracy: 0.6305\n",
            "Epoch 69/100\n",
            "95/95 [==============================] - 0s 3ms/step - loss: 0.7640 - accuracy: 0.6282 - val_loss: 0.7698 - val_accuracy: 0.6238\n",
            "Epoch 70/100\n",
            "95/95 [==============================] - 0s 3ms/step - loss: 0.7397 - accuracy: 0.6471 - val_loss: 0.7794 - val_accuracy: 0.6252\n",
            "Epoch 71/100\n",
            "95/95 [==============================] - 0s 3ms/step - loss: 0.7404 - accuracy: 0.6515 - val_loss: 0.7582 - val_accuracy: 0.6318\n",
            "Epoch 72/100\n",
            "95/95 [==============================] - 0s 3ms/step - loss: 0.7601 - accuracy: 0.6288 - val_loss: 0.7725 - val_accuracy: 0.6199\n",
            "Epoch 73/100\n",
            "95/95 [==============================] - 0s 4ms/step - loss: 0.7858 - accuracy: 0.6143 - val_loss: 0.7690 - val_accuracy: 0.6159\n",
            "Epoch 74/100\n",
            "95/95 [==============================] - 0s 4ms/step - loss: 0.7577 - accuracy: 0.6321 - val_loss: 0.7775 - val_accuracy: 0.6291\n",
            "Epoch 75/100\n",
            "95/95 [==============================] - 0s 4ms/step - loss: 0.7670 - accuracy: 0.6435 - val_loss: 0.7624 - val_accuracy: 0.6225\n",
            "Epoch 76/100\n",
            "95/95 [==============================] - 0s 4ms/step - loss: 0.7239 - accuracy: 0.6494 - val_loss: 0.7627 - val_accuracy: 0.6066\n",
            "Epoch 77/100\n",
            "95/95 [==============================] - 0s 3ms/step - loss: 0.7626 - accuracy: 0.6359 - val_loss: 0.7755 - val_accuracy: 0.6013\n",
            "Epoch 78/100\n",
            "95/95 [==============================] - 0s 3ms/step - loss: 0.7640 - accuracy: 0.6234 - val_loss: 0.7721 - val_accuracy: 0.5947\n",
            "Epoch 79/100\n",
            "95/95 [==============================] - 0s 3ms/step - loss: 0.7361 - accuracy: 0.6365 - val_loss: 0.7661 - val_accuracy: 0.6066\n",
            "Epoch 80/100\n",
            "95/95 [==============================] - 0s 3ms/step - loss: 0.7748 - accuracy: 0.6248 - val_loss: 0.7680 - val_accuracy: 0.6185\n",
            "Epoch 81/100\n",
            "95/95 [==============================] - 0s 3ms/step - loss: 0.7686 - accuracy: 0.6198 - val_loss: 0.7679 - val_accuracy: 0.6185\n",
            "Epoch 82/100\n",
            "95/95 [==============================] - 0s 3ms/step - loss: 0.7898 - accuracy: 0.6080 - val_loss: 0.7528 - val_accuracy: 0.6318\n",
            "Epoch 83/100\n",
            "95/95 [==============================] - 0s 3ms/step - loss: 0.7613 - accuracy: 0.6364 - val_loss: 0.7779 - val_accuracy: 0.6291\n",
            "Epoch 84/100\n",
            "95/95 [==============================] - 0s 4ms/step - loss: 0.7558 - accuracy: 0.6338 - val_loss: 0.7674 - val_accuracy: 0.6185\n",
            "Epoch 85/100\n",
            "95/95 [==============================] - 0s 3ms/step - loss: 0.7463 - accuracy: 0.6499 - val_loss: 0.7517 - val_accuracy: 0.6212\n",
            "Epoch 86/100\n",
            "95/95 [==============================] - 0s 3ms/step - loss: 0.7545 - accuracy: 0.6367 - val_loss: 0.7816 - val_accuracy: 0.6199\n",
            "Epoch 87/100\n",
            "95/95 [==============================] - 0s 3ms/step - loss: 0.7630 - accuracy: 0.6399 - val_loss: 0.7500 - val_accuracy: 0.6344\n",
            "Epoch 88/100\n",
            "95/95 [==============================] - 0s 3ms/step - loss: 0.7520 - accuracy: 0.6310 - val_loss: 0.7691 - val_accuracy: 0.6199\n",
            "Epoch 89/100\n",
            "95/95 [==============================] - 0s 3ms/step - loss: 0.7621 - accuracy: 0.6187 - val_loss: 0.7653 - val_accuracy: 0.6291\n",
            "Epoch 90/100\n",
            "95/95 [==============================] - 0s 4ms/step - loss: 0.7296 - accuracy: 0.6604 - val_loss: 0.7766 - val_accuracy: 0.6053\n",
            "Epoch 91/100\n",
            "95/95 [==============================] - 0s 3ms/step - loss: 0.7322 - accuracy: 0.6446 - val_loss: 0.7473 - val_accuracy: 0.6305\n",
            "Epoch 92/100\n",
            "95/95 [==============================] - 0s 3ms/step - loss: 0.7476 - accuracy: 0.6467 - val_loss: 0.7811 - val_accuracy: 0.6040\n",
            "Epoch 93/100\n",
            "95/95 [==============================] - 0s 3ms/step - loss: 0.7613 - accuracy: 0.6296 - val_loss: 0.7488 - val_accuracy: 0.6305\n",
            "Epoch 94/100\n",
            "95/95 [==============================] - 0s 4ms/step - loss: 0.7719 - accuracy: 0.6108 - val_loss: 0.7675 - val_accuracy: 0.6238\n",
            "Epoch 95/100\n",
            "95/95 [==============================] - 0s 3ms/step - loss: 0.7353 - accuracy: 0.6443 - val_loss: 0.7851 - val_accuracy: 0.6238\n",
            "Epoch 96/100\n",
            "95/95 [==============================] - 0s 3ms/step - loss: 0.7524 - accuracy: 0.6231 - val_loss: 0.7735 - val_accuracy: 0.6252\n",
            "Epoch 97/100\n",
            "95/95 [==============================] - 0s 4ms/step - loss: 0.7446 - accuracy: 0.6294 - val_loss: 0.7573 - val_accuracy: 0.6185\n",
            "Epoch 98/100\n",
            "95/95 [==============================] - 0s 4ms/step - loss: 0.7458 - accuracy: 0.6449 - val_loss: 0.7776 - val_accuracy: 0.6358\n",
            "Epoch 99/100\n",
            "95/95 [==============================] - 0s 4ms/step - loss: 0.7672 - accuracy: 0.6258 - val_loss: 0.7561 - val_accuracy: 0.6291\n",
            "Epoch 100/100\n",
            "95/95 [==============================] - 0s 3ms/step - loss: 0.7462 - accuracy: 0.6401 - val_loss: 0.7605 - val_accuracy: 0.6212\n",
            "24/24 [==============================] - 0s 1ms/step - loss: 0.7605 - accuracy: 0.6212\n"
          ],
          "name": "stdout"
        }
      ]
    }
  ]
}